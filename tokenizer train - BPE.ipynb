{
 "cells": [
  {
   "cell_type": "markdown",
   "metadata": {},
   "source": [
    "# import"
   ]
  },
  {
   "cell_type": "code",
   "execution_count": 1,
   "metadata": {
    "ExecuteTime": {
     "end_time": "2022-05-30T01:14:28.834149Z",
     "start_time": "2022-05-30T01:14:28.451814Z"
    }
   },
   "outputs": [],
   "source": [
    "import json\n",
    "import os\n",
    "import re\n",
    "from pprint import pprint\n",
    "\n",
    "from soynlp.normalizer import repeat_normalize"
   ]
  },
  {
   "cell_type": "code",
   "execution_count": 2,
   "metadata": {
    "ExecuteTime": {
     "end_time": "2022-05-30T01:14:28.839452Z",
     "start_time": "2022-05-30T01:14:28.835481Z"
    },
    "id": "ahc_PV2F4WxX"
   },
   "outputs": [],
   "source": [
    "def dump_jsonl(data, output_path, append=False):\n",
    "    mode = \"a+\" if append else \"w\"\n",
    "    with open(output_path, mode, encoding=\"utf-8\") as f:\n",
    "        for line in data:\n",
    "            json_record = json.dumps(line, ensure_ascii=False)\n",
    "            f.write(json_record + \"\\n\")\n",
    "\n",
    "\n",
    "def load_jsonl(input_path) -> list:\n",
    "    data = []\n",
    "    with open(input_path, \"r\", encoding=\"utf-8\") as f:\n",
    "        for line in f:\n",
    "            data.append(json.loads(line.rstrip(\"\\n|\\r\")))\n",
    "    return data"
   ]
  },
  {
   "cell_type": "code",
   "execution_count": 3,
   "metadata": {
    "ExecuteTime": {
     "end_time": "2022-05-30T01:14:28.847203Z",
     "start_time": "2022-05-30T01:14:28.841038Z"
    }
   },
   "outputs": [],
   "source": [
    "os.chdir(\"/home/nsw0311/nas_storage\")\n",
    "\n",
    "vocab_size = 24000"
   ]
  },
  {
   "cell_type": "markdown",
   "metadata": {
    "id": "HoCW3M3_HeeV"
   },
   "source": [
    "# load data"
   ]
  },
  {
   "cell_type": "code",
   "execution_count": 4,
   "metadata": {
    "ExecuteTime": {
     "end_time": "2022-05-30T01:14:28.852689Z",
     "start_time": "2022-05-30T01:14:28.848154Z"
    }
   },
   "outputs": [],
   "source": [
    "def processing(text):\n",
    "    #     text = re.sub(r' +', r' ', text.strip())\n",
    "    #     text = re.sub(r'(.{8,}?)\\1+', r'\\1', text)\n",
    "    #     text = re.sub(r'[^ ㄱ-ㅎㅏ-ㅣ가-힣A-Za-z0-9~!@#$%\\^\\&*\\(\\)_\\+\\-=\\[\\]{},\\./<>\\?]', r'', text)\n",
    "    #     text = re.sub(r'http.+', r'<url>', text)\n",
    "\n",
    "    return text.strip()"
   ]
  },
  {
   "cell_type": "code",
   "execution_count": 5,
   "metadata": {
    "ExecuteTime": {
     "end_time": "2022-05-30T01:15:18.210012Z",
     "start_time": "2022-05-30T01:14:28.854491Z"
    }
   },
   "outputs": [],
   "source": [
    "data = load_jsonl(\"datasets/RG/dialog_data.json\")"
   ]
  },
  {
   "cell_type": "code",
   "execution_count": 6,
   "metadata": {
    "ExecuteTime": {
     "end_time": "2022-05-30T01:15:18.222231Z",
     "start_time": "2022-05-30T01:15:18.211604Z"
    }
   },
   "outputs": [
    {
     "data": {
      "text/plain": [
       "''"
      ]
     },
     "execution_count": 6,
     "metadata": {},
     "output_type": "execute_result"
    }
   ],
   "source": [
    "data[0][\"content\"][8:]"
   ]
  },
  {
   "cell_type": "code",
   "execution_count": 7,
   "metadata": {
    "ExecuteTime": {
     "end_time": "2022-05-30T01:15:18.234332Z",
     "start_time": "2022-05-30T01:15:18.223606Z"
    }
   },
   "outputs": [],
   "source": [
    "def gen():\n",
    "    for row in data:\n",
    "        yield row[\"content\"][8:]"
   ]
  },
  {
   "cell_type": "code",
   "execution_count": 8,
   "metadata": {
    "ExecuteTime": {
     "end_time": "2022-05-30T01:15:18.247966Z",
     "start_time": "2022-05-30T01:15:18.236423Z"
    },
    "colab": {
     "base_uri": "https://localhost:8080/"
    },
    "id": "QAlRbHul7TZ4",
    "outputId": "1a1c971d-474d-40bc-fccb-d3d6c28780b3"
   },
   "outputs": [
    {
     "name": "stdout",
     "output_type": "stream",
     "text": [
      "['<pad>',\n",
      " '<unk>',\n",
      " '<cls>',\n",
      " '<sep>',\n",
      " '<mask>',\n",
      " '<bos>',\n",
      " '<eos>',\n",
      " '<tsep>',\n",
      " '<name>',\n",
      " '<url>',\n",
      " '<file>',\n",
      " '<image>',\n",
      " '<video>',\n",
      " '<location>',\n",
      " '<user0>',\n",
      " '<user1>',\n",
      " '<user2>',\n",
      " '<user3>',\n",
      " '<user4>',\n",
      " '<user5>',\n",
      " '<user6>',\n",
      " '<user7>',\n",
      " '<user8>',\n",
      " '<user9>',\n",
      " '<unk0>',\n",
      " '<unk1>',\n",
      " '<unk2>',\n",
      " '<unk3>',\n",
      " '<unk4>',\n",
      " '<unk5>',\n",
      " '<unk6>',\n",
      " '<unk7>',\n",
      " '<unk8>',\n",
      " '<unk9>']\n"
     ]
    }
   ],
   "source": [
    "user_defined_symbols = [\n",
    "    \"<pad>\",\n",
    "    \"<unk>\",\n",
    "    \"<cls>\",\n",
    "    \"<sep>\",\n",
    "    \"<mask>\",\n",
    "    \"<bos>\",\n",
    "    \"<eos>\",\n",
    "    \"<tsep>\",\n",
    "    \"<name>\",\n",
    "    \"<url>\",\n",
    "    \"<file>\",\n",
    "    \"<image>\",\n",
    "    \"<video>\",\n",
    "    \"<location>\",\n",
    "]\n",
    "user_defined_symbols += [f\"<user{i}>\" for i in range(10)]\n",
    "user_defined_symbols += [f\"<unk{i}>\" for i in range(10)]\n",
    "unused_token_num = 100\n",
    "unused_list = [f\"<unused{i}>\" for i in range(unused_token_num)]\n",
    "whole_user_defined_symbols = user_defined_symbols + unused_list\n",
    "\n",
    "pprint(user_defined_symbols)"
   ]
  },
  {
   "cell_type": "markdown",
   "metadata": {
    "id": "M78kc0QyHjW6"
   },
   "source": [
    "# train"
   ]
  },
  {
   "cell_type": "code",
   "execution_count": 9,
   "metadata": {
    "ExecuteTime": {
     "end_time": "2022-05-30T01:15:18.265314Z",
     "start_time": "2022-05-30T01:15:18.250790Z"
    }
   },
   "outputs": [],
   "source": [
    "from tokenizers import Tokenizer\n",
    "from tokenizers.models import BPE\n",
    "\n",
    "gpt_tokenizer = Tokenizer(BPE(unk_token=\"<unk>\"))"
   ]
  },
  {
   "cell_type": "code",
   "execution_count": 10,
   "metadata": {
    "ExecuteTime": {
     "end_time": "2022-05-30T01:15:18.269898Z",
     "start_time": "2022-05-30T01:15:18.266633Z"
    }
   },
   "outputs": [],
   "source": [
    "from tokenizers import normalizers\n",
    "from tokenizers.normalizers import NFKC, BertNormalizer\n",
    "\n",
    "\n",
    "n1 = NFKC()\n",
    "n2 = BertNormalizer(\n",
    "    clean_text=False,\n",
    "    handle_chinese_chars=False,\n",
    "    strip_accents=False,\n",
    "    lowercase=False,\n",
    ")\n",
    "\n",
    "gpt_tokenizer.normalizer = normalizers.Sequence([n1, n2])"
   ]
  },
  {
   "cell_type": "code",
   "execution_count": 11,
   "metadata": {
    "ExecuteTime": {
     "end_time": "2022-05-30T01:15:18.275783Z",
     "start_time": "2022-05-30T01:15:18.271095Z"
    }
   },
   "outputs": [],
   "source": [
    "from tokenizers import pre_tokenizers\n",
    "from tokenizers.pre_tokenizers import Metaspace\n",
    "\n",
    "gpt_tokenizer.pre_tokenizer = pre_tokenizers.Sequence(\n",
    "    [Metaspace(replacement=\"_\", add_prefix_space=True)]\n",
    ")"
   ]
  },
  {
   "cell_type": "code",
   "execution_count": 12,
   "metadata": {
    "ExecuteTime": {
     "end_time": "2022-05-30T01:15:18.281372Z",
     "start_time": "2022-05-30T01:15:18.277298Z"
    }
   },
   "outputs": [],
   "source": [
    "# post_processing pass"
   ]
  },
  {
   "cell_type": "code",
   "execution_count": 13,
   "metadata": {
    "ExecuteTime": {
     "end_time": "2022-05-30T01:17:43.138485Z",
     "start_time": "2022-05-30T01:15:18.282791Z"
    }
   },
   "outputs": [
    {
     "name": "stdout",
     "output_type": "stream",
     "text": [
      "\n",
      "\n",
      "\n"
     ]
    }
   ],
   "source": [
    "from tokenizers.trainers import BpeTrainer\n",
    "\n",
    "trainer = BpeTrainer(\n",
    "    vocab_size=vocab_size,\n",
    "    special_tokens=whole_user_defined_symbols,\n",
    ")\n",
    "gpt_tokenizer.train_from_iterator(gen(), trainer)"
   ]
  },
  {
   "cell_type": "code",
   "execution_count": 14,
   "metadata": {
    "ExecuteTime": {
     "end_time": "2022-05-30T01:17:43.148022Z",
     "start_time": "2022-05-30T01:17:43.142296Z"
    }
   },
   "outputs": [
    {
     "name": "stdout",
     "output_type": "stream",
     "text": [
      "[13461, 4173, 6645, 6516, 8324, 7211, 164]\n"
     ]
    },
    {
     "data": {
      "text/plain": [
       "'_테스트 용 인데 _잘 _되는거 같아 ?'"
      ]
     },
     "execution_count": 14,
     "metadata": {},
     "output_type": "execute_result"
    }
   ],
   "source": [
    "output = gpt_tokenizer.encode(\"테스트용인데 잘 되는거같아?\")\n",
    "print(output.ids)\n",
    "\n",
    "gpt_tokenizer.decode(output.ids)"
   ]
  },
  {
   "cell_type": "code",
   "execution_count": 15,
   "metadata": {
    "ExecuteTime": {
     "end_time": "2022-05-30T01:17:43.163177Z",
     "start_time": "2022-05-30T01:17:43.149461Z"
    }
   },
   "outputs": [
    {
     "data": {
      "text/plain": [
       "'테스트용인데 잘 되는거같아?'"
      ]
     },
     "execution_count": 15,
     "metadata": {},
     "output_type": "execute_result"
    }
   ],
   "source": [
    "from tokenizers import decoders\n",
    "\n",
    "gpt_tokenizer.decoder = decoders.BPEDecoder(suffix=\"_\")\n",
    "gpt_tokenizer.decode(output.ids)"
   ]
  },
  {
   "cell_type": "markdown",
   "metadata": {
    "id": "ETFAiEUiHgrG"
   },
   "source": [
    "# convert transformers tokenizer and save"
   ]
  },
  {
   "cell_type": "code",
   "execution_count": 16,
   "metadata": {
    "ExecuteTime": {
     "end_time": "2022-05-30T01:17:44.329740Z",
     "start_time": "2022-05-30T01:17:43.165209Z"
    }
   },
   "outputs": [],
   "source": [
    "from transformers import GPT2TokenizerFast\n",
    "\n",
    "\n",
    "fast_tokenizer = GPT2TokenizerFast(tokenizer_object=gpt_tokenizer)"
   ]
  },
  {
   "cell_type": "code",
   "execution_count": 17,
   "metadata": {
    "ExecuteTime": {
     "end_time": "2022-05-30T01:17:44.336803Z",
     "start_time": "2022-05-30T01:17:44.331314Z"
    },
    "colab": {
     "base_uri": "https://localhost:8080/"
    },
    "id": "N8RmIRpxgnfJ",
    "outputId": "d31adf46-3539-47de-ea74-6e126751e78e"
   },
   "outputs": [
    {
     "data": {
      "text/plain": [
       "0"
      ]
     },
     "execution_count": 17,
     "metadata": {},
     "output_type": "execute_result"
    }
   ],
   "source": [
    "fast_tokenizer.pad_token = \"<pad>\"\n",
    "fast_tokenizer.unk_token = \"<unk>\"\n",
    "fast_tokenizer.cls_token = \"<cls>\"\n",
    "fast_tokenizer.sep_token = \"<sep>\"\n",
    "fast_tokenizer.mask_token = \"<mask>\"\n",
    "fast_tokenizer.bos_token = \"<bos>\"\n",
    "fast_tokenizer.eos_token = \"<eos>\"\n",
    "\n",
    "special_tokens_dict = {\"additional_special_tokens\": user_defined_symbols}\n",
    "fast_tokenizer.add_special_tokens(special_tokens_dict)"
   ]
  },
  {
   "cell_type": "code",
   "execution_count": 18,
   "metadata": {
    "ExecuteTime": {
     "end_time": "2022-05-30T01:17:47.988542Z",
     "start_time": "2022-05-30T01:17:44.338242Z"
    }
   },
   "outputs": [
    {
     "name": "stdout",
     "output_type": "stream",
     "text": [
      "[15, 10080, 22599, 4173, 140, 6534, 10861, 4369, 135, 14674, 6846, 10759, 3]\n",
      "<user1> '테스트용'으로 \"잘\" 되는지 보고이따<sep>\n"
     ]
    }
   ],
   "source": [
    "e = fast_tokenizer.encode(\"<user1>'테스트용'으로 \\\"잘\\\" 되는지 보고이따<sep>\")\n",
    "print(e)\n",
    "print(fast_tokenizer.decode(e))"
   ]
  },
  {
   "cell_type": "code",
   "execution_count": 19,
   "metadata": {
    "ExecuteTime": {
     "end_time": "2022-05-30T01:17:48.070946Z",
     "start_time": "2022-05-30T01:17:47.990116Z"
    }
   },
   "outputs": [
    {
     "data": {
      "text/plain": [
       "('etc/DialogBPE/tokenizer_config.json',\n",
       " 'etc/DialogBPE/special_tokens_map.json',\n",
       " 'etc/DialogBPE/vocab.json',\n",
       " 'etc/DialogBPE/merges.txt',\n",
       " 'etc/DialogBPE/added_tokens.json',\n",
       " 'etc/DialogBPE/tokenizer.json')"
      ]
     },
     "execution_count": 19,
     "metadata": {},
     "output_type": "execute_result"
    }
   ],
   "source": [
    "fast_tokenizer.save_pretrained(\"etc/DialogBPE\")"
   ]
  }
 ],
 "metadata": {
  "colab": {
   "collapsed_sections": [
    "HoCW3M3_HeeV",
    "M78kc0QyHjW6",
    "ETFAiEUiHgrG"
   ],
   "name": "evolved_transformer.ipynb",
   "provenance": []
  },
  "kernelspec": {
   "display_name": "Python 3 (ipykernel)",
   "language": "python",
   "name": "python3"
  },
  "language_info": {
   "codemirror_mode": {
    "name": "ipython",
    "version": 3
   },
   "file_extension": ".py",
   "mimetype": "text/x-python",
   "name": "python",
   "nbconvert_exporter": "python",
   "pygments_lexer": "ipython3",
   "version": "3.9.7"
  },
  "toc": {
   "base_numbering": 1,
   "nav_menu": {},
   "number_sections": true,
   "sideBar": true,
   "skip_h1_title": false,
   "title_cell": "Table of Contents",
   "title_sidebar": "Contents",
   "toc_cell": false,
   "toc_position": {},
   "toc_section_display": true,
   "toc_window_display": false
  }
 },
 "nbformat": 4,
 "nbformat_minor": 1
}
